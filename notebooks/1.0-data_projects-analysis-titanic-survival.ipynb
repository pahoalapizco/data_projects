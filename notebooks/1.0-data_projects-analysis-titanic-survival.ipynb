{
 "cells": [
  {
   "cell_type": "markdown",
   "id": "56999b89",
   "metadata": {},
   "source": [
    "## Analysis: Titanic's passengers survival"
   ]
  },
  {
   "cell_type": "markdown",
   "id": "13980d1b",
   "metadata": {},
   "source": [
    "- **Dataset**: https://www.kaggle.com/datasets/yasserh/titanic-dataset/data\n",
    "\n",
    "\n",
    "Column definitions:\n",
    "- `PassengerId`: Passenger Id.\n",
    "- `Survived`: Survival \n",
    "  - **0** = No \n",
    "  - **1** = Yes.\n",
    "- `Pclass`: Ticket class\n",
    "  - **1** = First class\n",
    "  - **2** = Second class\n",
    "  - **3** = Third class.\n",
    "- `Name`: Passenger's name.\n",
    "- `Sex`: Passenger's genre.\n",
    "- `Age`: Passenger's age in years.\n",
    "- `SibSp`: Number of sibligs / spouse aboard.\n",
    "- `Parch`: Number of parents / children aboard.\n",
    "- `Ticket`: Ticket number.\n",
    "- `Fare`: Passenger's fare.\n",
    "- `Cabin`: Cabin number.\n",
    "- `Embarked`:  Port of embarkation\n",
    "  - **C** = Cherbourg\n",
    "  - **Q** = Queenstown\n",
    "  - **S** = Southampton"
   ]
  },
  {
   "cell_type": "markdown",
   "id": "b1ec392a",
   "metadata": {},
   "source": [
    "## Libraries"
   ]
  },
  {
   "cell_type": "code",
   "execution_count": 12,
   "id": "6a735980",
   "metadata": {},
   "outputs": [
    {
     "name": "stdout",
     "output_type": "stream",
     "text": [
      "The autoreload extension is already loaded. To reload it, use:\n",
      "  %reload_ext autoreload\n"
     ]
    }
   ],
   "source": [
    "%run 0.0-data_projects-setup.ipynb\n",
    "%run pandas-missing-extension.ipynb"
   ]
  },
  {
   "cell_type": "code",
   "execution_count": 36,
   "id": "7d94f6f2",
   "metadata": {},
   "outputs": [],
   "source": [
    "# Data Manipulation\n",
    "import pandas as pd\n",
    "import numpy as np\n",
    "\n",
    "# Data Visualization\n",
    "import matplotlib.pyplot as plt\n",
    "import seaborn as sns\n",
    "\n",
    "# Data Cleaning\n",
    "import janitor\n",
    "\n",
    "# Missin Values Analysis\n",
    "import missingno as msno"
   ]
  },
  {
   "cell_type": "markdown",
   "id": "69c05ba6",
   "metadata": {},
   "source": [
    "## Downdload and load data"
   ]
  },
  {
   "cell_type": "markdown",
   "id": "28b10e36",
   "metadata": {},
   "source": [
    "Download dataset from kaggle:"
   ]
  },
  {
   "cell_type": "code",
   "execution_count": 14,
   "id": "aed9eb98",
   "metadata": {},
   "outputs": [
    {
     "name": "stdout",
     "output_type": "stream",
     "text": [
      "Dataset Titanic-Dataset.csv is already downloaded\n"
     ]
    }
   ],
   "source": [
    "from_kaggle(\"yasserh/titanic-dataset\", \"Titanic-Dataset.csv\")"
   ]
  },
  {
   "cell_type": "markdown",
   "id": "038e5474",
   "metadata": {},
   "source": [
    "Load and preview data:"
   ]
  },
  {
   "cell_type": "code",
   "execution_count": 15,
   "id": "6e1d9b0f",
   "metadata": {},
   "outputs": [
    {
     "data": {
      "text/html": [
       "<div>\n",
       "<style scoped>\n",
       "    .dataframe tbody tr th:only-of-type {\n",
       "        vertical-align: middle;\n",
       "    }\n",
       "\n",
       "    .dataframe tbody tr th {\n",
       "        vertical-align: top;\n",
       "    }\n",
       "\n",
       "    .dataframe thead th {\n",
       "        text-align: right;\n",
       "    }\n",
       "</style>\n",
       "<table border=\"1\" class=\"dataframe\">\n",
       "  <thead>\n",
       "    <tr style=\"text-align: right;\">\n",
       "      <th></th>\n",
       "      <th>Unnamed: 0</th>\n",
       "      <th>PassengerId</th>\n",
       "      <th>Survived</th>\n",
       "      <th>Pclass</th>\n",
       "      <th>Name</th>\n",
       "      <th>Sex</th>\n",
       "      <th>Age</th>\n",
       "      <th>SibSp</th>\n",
       "      <th>Parch</th>\n",
       "      <th>Ticket</th>\n",
       "      <th>Fare</th>\n",
       "      <th>Cabin</th>\n",
       "      <th>Embarked</th>\n",
       "    </tr>\n",
       "  </thead>\n",
       "  <tbody>\n",
       "    <tr>\n",
       "      <th>0</th>\n",
       "      <td>0</td>\n",
       "      <td>1</td>\n",
       "      <td>0</td>\n",
       "      <td>3</td>\n",
       "      <td>Braund, Mr. Owen Harris</td>\n",
       "      <td>male</td>\n",
       "      <td>22.0</td>\n",
       "      <td>1</td>\n",
       "      <td>0</td>\n",
       "      <td>A/5 21171</td>\n",
       "      <td>7.2500</td>\n",
       "      <td>NaN</td>\n",
       "      <td>S</td>\n",
       "    </tr>\n",
       "    <tr>\n",
       "      <th>1</th>\n",
       "      <td>1</td>\n",
       "      <td>2</td>\n",
       "      <td>1</td>\n",
       "      <td>1</td>\n",
       "      <td>Cumings, Mrs. John Bradley (Florence Briggs Th...</td>\n",
       "      <td>female</td>\n",
       "      <td>38.0</td>\n",
       "      <td>1</td>\n",
       "      <td>0</td>\n",
       "      <td>PC 17599</td>\n",
       "      <td>71.2833</td>\n",
       "      <td>C85</td>\n",
       "      <td>C</td>\n",
       "    </tr>\n",
       "    <tr>\n",
       "      <th>2</th>\n",
       "      <td>2</td>\n",
       "      <td>3</td>\n",
       "      <td>1</td>\n",
       "      <td>3</td>\n",
       "      <td>Heikkinen, Miss. Laina</td>\n",
       "      <td>female</td>\n",
       "      <td>26.0</td>\n",
       "      <td>0</td>\n",
       "      <td>0</td>\n",
       "      <td>STON/O2. 3101282</td>\n",
       "      <td>7.9250</td>\n",
       "      <td>NaN</td>\n",
       "      <td>S</td>\n",
       "    </tr>\n",
       "    <tr>\n",
       "      <th>3</th>\n",
       "      <td>3</td>\n",
       "      <td>4</td>\n",
       "      <td>1</td>\n",
       "      <td>1</td>\n",
       "      <td>Futrelle, Mrs. Jacques Heath (Lily May Peel)</td>\n",
       "      <td>female</td>\n",
       "      <td>35.0</td>\n",
       "      <td>1</td>\n",
       "      <td>0</td>\n",
       "      <td>113803</td>\n",
       "      <td>53.1000</td>\n",
       "      <td>C123</td>\n",
       "      <td>S</td>\n",
       "    </tr>\n",
       "    <tr>\n",
       "      <th>4</th>\n",
       "      <td>4</td>\n",
       "      <td>5</td>\n",
       "      <td>0</td>\n",
       "      <td>3</td>\n",
       "      <td>Allen, Mr. William Henry</td>\n",
       "      <td>male</td>\n",
       "      <td>35.0</td>\n",
       "      <td>0</td>\n",
       "      <td>0</td>\n",
       "      <td>373450</td>\n",
       "      <td>8.0500</td>\n",
       "      <td>NaN</td>\n",
       "      <td>S</td>\n",
       "    </tr>\n",
       "  </tbody>\n",
       "</table>\n",
       "</div>"
      ],
      "text/plain": [
       "   Unnamed: 0  PassengerId  Survived  Pclass  \\\n",
       "0           0            1         0       3   \n",
       "1           1            2         1       1   \n",
       "2           2            3         1       3   \n",
       "3           3            4         1       1   \n",
       "4           4            5         0       3   \n",
       "\n",
       "                                                Name     Sex   Age  SibSp  \\\n",
       "0                            Braund, Mr. Owen Harris    male  22.0      1   \n",
       "1  Cumings, Mrs. John Bradley (Florence Briggs Th...  female  38.0      1   \n",
       "2                             Heikkinen, Miss. Laina  female  26.0      0   \n",
       "3       Futrelle, Mrs. Jacques Heath (Lily May Peel)  female  35.0      1   \n",
       "4                           Allen, Mr. William Henry    male  35.0      0   \n",
       "\n",
       "   Parch            Ticket     Fare Cabin Embarked  \n",
       "0      0         A/5 21171   7.2500   NaN        S  \n",
       "1      0          PC 17599  71.2833   C85        C  \n",
       "2      0  STON/O2. 3101282   7.9250   NaN        S  \n",
       "3      0            113803  53.1000  C123        S  \n",
       "4      0            373450   8.0500   NaN        S  "
      ]
     },
     "execution_count": 15,
     "metadata": {},
     "output_type": "execute_result"
    }
   ],
   "source": [
    "df = pd.read_csv(path.data_raw_dir(\"Titanic-Dataset.csv\"))\n",
    "df.head()"
   ]
  },
  {
   "cell_type": "code",
   "execution_count": 16,
   "id": "e06fcea4",
   "metadata": {},
   "outputs": [
    {
     "name": "stdout",
     "output_type": "stream",
     "text": [
      "<class 'pandas.core.frame.DataFrame'>\n",
      "RangeIndex: 891 entries, 0 to 890\n",
      "Data columns (total 13 columns):\n",
      " #   Column       Non-Null Count  Dtype  \n",
      "---  ------       --------------  -----  \n",
      " 0   Unnamed: 0   891 non-null    int64  \n",
      " 1   PassengerId  891 non-null    int64  \n",
      " 2   Survived     891 non-null    int64  \n",
      " 3   Pclass       891 non-null    int64  \n",
      " 4   Name         891 non-null    object \n",
      " 5   Sex          891 non-null    object \n",
      " 6   Age          714 non-null    float64\n",
      " 7   SibSp        891 non-null    int64  \n",
      " 8   Parch        891 non-null    int64  \n",
      " 9   Ticket       891 non-null    object \n",
      " 10  Fare         891 non-null    float64\n",
      " 11  Cabin        204 non-null    object \n",
      " 12  Embarked     889 non-null    object \n",
      "dtypes: float64(2), int64(6), object(5)\n",
      "memory usage: 90.6+ KB\n"
     ]
    }
   ],
   "source": [
    "df.info()"
   ]
  },
  {
   "cell_type": "markdown",
   "id": "9be52823",
   "metadata": {},
   "source": [
    "## Cleaning data"
   ]
  },
  {
   "cell_type": "markdown",
   "id": "9daaf4a8",
   "metadata": {},
   "source": [
    "### Standarizing column names"
   ]
  },
  {
   "cell_type": "code",
   "execution_count": 17,
   "id": "fb44f3b8",
   "metadata": {},
   "outputs": [
    {
     "data": {
      "text/plain": [
       "Index(['unnamed_0', 'passenger_id', 'survived', 'pclass', 'name', 'sex', 'age',\n",
       "       'sib_sp', 'parch', 'ticket', 'fare', 'cabin', 'embarked'],\n",
       "      dtype='object')"
      ]
     },
     "execution_count": 17,
     "metadata": {},
     "output_type": "execute_result"
    }
   ],
   "source": [
    "df = df.clean_names(case_type=\"snake\")\n",
    "df.columns"
   ]
  },
  {
   "cell_type": "markdown",
   "id": "70f953c9",
   "metadata": {},
   "source": [
    "### Drop unnecesary columns"
   ]
  },
  {
   "cell_type": "markdown",
   "id": "a566fe11",
   "metadata": {},
   "source": [
    "Columns `passenger_id` and `unnamed_0` contain consecutive id values, and they don't add valuable information to the analysis, so we can drop them."
   ]
  },
  {
   "cell_type": "code",
   "execution_count": 18,
   "id": "215b1f98",
   "metadata": {},
   "outputs": [],
   "source": [
    "df = df.drop(columns=[\"passenger_id\", \"unnamed_0\"])"
   ]
  },
  {
   "cell_type": "markdown",
   "id": "2e2ca02e",
   "metadata": {},
   "source": [
    "### Handling missing values"
   ]
  },
  {
   "cell_type": "code",
   "execution_count": 19,
   "id": "97eb88e0",
   "metadata": {},
   "outputs": [
    {
     "data": {
      "text/html": [
       "<div>\n",
       "<style scoped>\n",
       "    .dataframe tbody tr th:only-of-type {\n",
       "        vertical-align: middle;\n",
       "    }\n",
       "\n",
       "    .dataframe tbody tr th {\n",
       "        vertical-align: top;\n",
       "    }\n",
       "\n",
       "    .dataframe thead th {\n",
       "        text-align: right;\n",
       "    }\n",
       "</style>\n",
       "<table border=\"1\" class=\"dataframe\">\n",
       "  <thead>\n",
       "    <tr style=\"text-align: right;\">\n",
       "      <th></th>\n",
       "      <th>variable</th>\n",
       "      <th>n_missing</th>\n",
       "      <th>n_cases</th>\n",
       "      <th>pct_missing</th>\n",
       "    </tr>\n",
       "  </thead>\n",
       "  <tbody>\n",
       "    <tr>\n",
       "      <th>9</th>\n",
       "      <td>cabin</td>\n",
       "      <td>687</td>\n",
       "      <td>891</td>\n",
       "      <td>77.104377</td>\n",
       "    </tr>\n",
       "    <tr>\n",
       "      <th>4</th>\n",
       "      <td>age</td>\n",
       "      <td>177</td>\n",
       "      <td>891</td>\n",
       "      <td>19.865320</td>\n",
       "    </tr>\n",
       "    <tr>\n",
       "      <th>10</th>\n",
       "      <td>embarked</td>\n",
       "      <td>2</td>\n",
       "      <td>891</td>\n",
       "      <td>0.224467</td>\n",
       "    </tr>\n",
       "    <tr>\n",
       "      <th>2</th>\n",
       "      <td>name</td>\n",
       "      <td>0</td>\n",
       "      <td>891</td>\n",
       "      <td>0.000000</td>\n",
       "    </tr>\n",
       "    <tr>\n",
       "      <th>1</th>\n",
       "      <td>pclass</td>\n",
       "      <td>0</td>\n",
       "      <td>891</td>\n",
       "      <td>0.000000</td>\n",
       "    </tr>\n",
       "    <tr>\n",
       "      <th>0</th>\n",
       "      <td>survived</td>\n",
       "      <td>0</td>\n",
       "      <td>891</td>\n",
       "      <td>0.000000</td>\n",
       "    </tr>\n",
       "    <tr>\n",
       "      <th>3</th>\n",
       "      <td>sex</td>\n",
       "      <td>0</td>\n",
       "      <td>891</td>\n",
       "      <td>0.000000</td>\n",
       "    </tr>\n",
       "    <tr>\n",
       "      <th>6</th>\n",
       "      <td>parch</td>\n",
       "      <td>0</td>\n",
       "      <td>891</td>\n",
       "      <td>0.000000</td>\n",
       "    </tr>\n",
       "    <tr>\n",
       "      <th>5</th>\n",
       "      <td>sib_sp</td>\n",
       "      <td>0</td>\n",
       "      <td>891</td>\n",
       "      <td>0.000000</td>\n",
       "    </tr>\n",
       "    <tr>\n",
       "      <th>8</th>\n",
       "      <td>fare</td>\n",
       "      <td>0</td>\n",
       "      <td>891</td>\n",
       "      <td>0.000000</td>\n",
       "    </tr>\n",
       "    <tr>\n",
       "      <th>7</th>\n",
       "      <td>ticket</td>\n",
       "      <td>0</td>\n",
       "      <td>891</td>\n",
       "      <td>0.000000</td>\n",
       "    </tr>\n",
       "  </tbody>\n",
       "</table>\n",
       "</div>"
      ],
      "text/plain": [
       "    variable  n_missing  n_cases  pct_missing\n",
       "9      cabin        687      891    77.104377\n",
       "4        age        177      891    19.865320\n",
       "10  embarked          2      891     0.224467\n",
       "2       name          0      891     0.000000\n",
       "1     pclass          0      891     0.000000\n",
       "0   survived          0      891     0.000000\n",
       "3        sex          0      891     0.000000\n",
       "6      parch          0      891     0.000000\n",
       "5     sib_sp          0      891     0.000000\n",
       "8       fare          0      891     0.000000\n",
       "7     ticket          0      891     0.000000"
      ]
     },
     "execution_count": 19,
     "metadata": {},
     "output_type": "execute_result"
    }
   ],
   "source": [
    "df.missing.missing_variable_summary().sort_values(by=\"pct_missing\", ascending=False)"
   ]
  },
  {
   "cell_type": "code",
   "execution_count": 20,
   "id": "f74f08e0",
   "metadata": {},
   "outputs": [
    {
     "data": {
      "image/png": "[encoded data removed]",
      "text/plain": [
       "<Figure size 1800x600 with 3 Axes>"
      ]
     },
     "metadata": {},
     "output_type": "display_data"
    }
   ],
   "source": [
    "fig, axes = plt.subplots(1, 2, figsize=(18,6))\n",
    "\n",
    "msno.matrix(df=df, figsize=(8, 6), fontsize=8, ax=axes[0], sparkline=False)\n",
    "axes[0].set_title(\"Run lenght matrix\")\n",
    "\n",
    "msno.heatmap(df, figsize=(8, 4), fontsize=10, ax=axes[1])\n",
    "axes[1].set_title(\"Correlation between variables with missing values\");"
   ]
  },
  {
   "cell_type": "markdown",
   "id": "8dd31e37",
   "metadata": {},
   "source": [
    "**Observations**\n",
    "- According to the graphs above, there don't appear to be any patterns or corelations in the missing values.\n",
    "- `embarked`'s null values represent only $0.22\\%$ of data, so we can delete those rows or impute them with the most repeted value (mode).\n",
    "- `age` column has 177 null values, deleting almost 20% of the observations could be counterproductive for this analysis. So, in this case, we can impute the median value by groups (grouped by `pclass`).\n",
    "- The `cabin` column contains more null values than actual data. Therefore, it's more convinient exclude this variable from the análisis. However, we can create a new column called `has_cabin` to indicate whether a passenger has cabin information or not.\n"
   ]
  },
  {
   "cell_type": "markdown",
   "id": "eea193d9",
   "metadata": {},
   "source": [
    "#### Imputing missing values"
   ]
  },
  {
   "cell_type": "code",
   "execution_count": 71,
   "id": "a643de17",
   "metadata": {},
   "outputs": [],
   "source": [
    "# Imputed embarked with the top.\n",
    "top_embarked = df[\"embarked\"].describe().top\n",
    "df[\"embarked\"] = df[\"embarked\"].fillna(top_embarked)\n",
    "\n",
    "# Creating new column, which indicates wheter a passenger has cabin information\n",
    "df[\"has_cabin\"] = df[\"cabin\"].notnull().astype(int)\n",
    "df.drop(columns=[\"cabin\"], inplace=True)"
   ]
  },
  {
   "cell_type": "markdown",
   "id": "c31479d2",
   "metadata": {},
   "source": [
    "`age` Imputation is performed by grouping passengers according to their `pclass`."
   ]
  },
  {
   "cell_type": "code",
   "execution_count": 57,
   "id": "29698526",
   "metadata": {},
   "outputs": [],
   "source": [
    "df[\"age\"] = df.groupby(['pclass'])[\"age\"].transform(lambda x: x.fillna(x.mean()))"
   ]
  },
  {
   "cell_type": "code",
   "execution_count": 72,
   "id": "4d3cd6fb",
   "metadata": {},
   "outputs": [
    {
     "data": {
      "text/plain": [
       "np.int64(0)"
      ]
     },
     "execution_count": 72,
     "metadata": {},
     "output_type": "execute_result"
    }
   ],
   "source": [
    "df.isnull().sum().sum()"
   ]
  },
  {
   "cell_type": "code",
   "execution_count": null,
   "id": "0d093a82",
   "metadata": {},
   "outputs": [],
   "source": []
  }
 ],
 "metadata": {
  "kernelspec": {
   "display_name": "data_projects",
   "language": "python",
   "name": "python3"
  },
  "language_info": {
   "codemirror_mode": {
    "name": "ipython",
    "version": 3
   },
   "file_extension": ".py",
   "mimetype": "text/x-python",
   "name": "python",
   "nbconvert_exporter": "python",
   "pygments_lexer": "ipython3",
   "version": "3.12.9"
  }
 },
 "nbformat": 4,
 "nbformat_minor": 5
}
