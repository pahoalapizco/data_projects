{
 "cells": [
  {
   "cell_type": "markdown",
   "id": "d07c756c",
   "metadata": {},
   "source": [
    "# Life Expectancy Analysis"
   ]
  },
  {
   "cell_type": "markdown",
   "id": "b4520d1e",
   "metadata": {},
   "source": [
    "## 1. Introduction"
   ]
  },
  {
   "cell_type": "markdown",
   "id": "07f4f24a",
   "metadata": {},
   "source": [
    "- Data source: https://www.kaggle.com/datasets/fredericksalazar/life-expectancy-1960-to-present-global/data\n",
    "\n",
    "Column definitions:\n",
    "- `Country Code`: Unique identifier for each country.\n",
    "- `Country Name`: Official name of the country.\n",
    "- `Region`: Broad geographical area (e.g., Asia, Europe, Africa).\n",
    "- `Sub-Region`: More specific regional classification within the broader region.\n",
    "- `Intermediate Region`: Additional granular geographical grouping when applicable.\n",
    "- `Year`: The specific year to which the data pertains.\n",
    "- `Life Expectancy for Women`: Average years a woman is expected to live in that country and year.\n",
    "- `Life Expectancy for Men`: Average years a man is expected to live in that country and year."
   ]
  },
  {
   "cell_type": "markdown",
   "id": "86d8ad64",
   "metadata": {},
   "source": [
    "## 2. Libraries"
   ]
  },
  {
   "cell_type": "code",
   "execution_count": 1,
   "id": "38efe93a",
   "metadata": {},
   "outputs": [],
   "source": [
    "%run 0.0-data_projects-setup.ipynb\n",
    "%run pandas-missing-extension.ipynb"
   ]
  },
  {
   "cell_type": "code",
   "execution_count": 2,
   "id": "73f70028",
   "metadata": {},
   "outputs": [],
   "source": [
    "# Data Manipulation\n",
    "import pandas as pd\n",
    "import numpy as np\n",
    "\n",
    "# Data Visualization\n",
    "import matplotlib.pyplot as plt\n",
    "import seaborn as sns\n",
    "\n",
    "# Data Cleaning\n",
    "import janitor\n",
    "\n",
    "# Missin Values Analysis\n",
    "import missingno as msno\n",
    "\n",
    "import warnings\n",
    "warnings.filterwarnings('ignore')"
   ]
  },
  {
   "cell_type": "markdown",
   "id": "54b6e75a",
   "metadata": {},
   "source": [
    "## 3. Download and Cleaning Data"
   ]
  },
  {
   "cell_type": "markdown",
   "id": "8a1c11f5",
   "metadata": {},
   "source": [
    "### 3.1 Download and First Data View"
   ]
  },
  {
   "cell_type": "code",
   "execution_count": 3,
   "id": "03f16860",
   "metadata": {},
   "outputs": [],
   "source": [
    "file_zip_path = path.data_raw_dir(\"life-expectancy.zip\")\n",
    "url = \"https://www.kaggle.com/api/v1/datasets/download/fredericksalazar/life-expectancy-1960-to-present-global\""
   ]
  },
  {
   "cell_type": "code",
   "execution_count": 4,
   "id": "f53097dd",
   "metadata": {},
   "outputs": [
    {
     "name": "stdout",
     "output_type": "stream",
     "text": [
      "  % Total    % Received % Xferd  Average Speed   Time    Time     Time  Current\n",
      "                                 Dload  Upload   Total   Spent    Left  Speed\n",
      "  0     0    0     0    0     0      0      0 --:--:-- --:--:-- --:--:--     0\n",
      "100  108k  100  108k    0     0   193k      0 --:--:-- --:--:-- --:--:--  193k\n",
      "Archive:  /home/pahoalapizco/ds-projects/data_projects/data/raw/life-expectancy.zip\n",
      "  inflating: /home/pahoalapizco/ds-projects/data_projects/data/raw/life_expectancy_dataset.csv  \n"
     ]
    }
   ],
   "source": [
    "!curl -L -o {file_zip_path} {url}\n",
    "!unzip -o {file_zip_path} -d {path.data_raw_dir()} && rm {file_zip_path}"
   ]
  },
  {
   "cell_type": "code",
   "execution_count": 5,
   "id": "7a912e9a",
   "metadata": {},
   "outputs": [
    {
     "data": {
      "text/html": [
       "<div>\n",
       "<style scoped>\n",
       "    .dataframe tbody tr th:only-of-type {\n",
       "        vertical-align: middle;\n",
       "    }\n",
       "\n",
       "    .dataframe tbody tr th {\n",
       "        vertical-align: top;\n",
       "    }\n",
       "\n",
       "    .dataframe thead th {\n",
       "        text-align: right;\n",
       "    }\n",
       "</style>\n",
       "<table border=\"1\" class=\"dataframe\">\n",
       "  <thead>\n",
       "    <tr style=\"text-align: right;\">\n",
       "      <th></th>\n",
       "      <th>country_code</th>\n",
       "      <th>country_name</th>\n",
       "      <th>region</th>\n",
       "      <th>sub-region</th>\n",
       "      <th>intermediate-region</th>\n",
       "      <th>year</th>\n",
       "      <th>life_expectancy_women</th>\n",
       "      <th>life_expectancy_men</th>\n",
       "    </tr>\n",
       "  </thead>\n",
       "  <tbody>\n",
       "    <tr>\n",
       "      <th>811</th>\n",
       "      <td>AUT</td>\n",
       "      <td>AUSTRIA</td>\n",
       "      <td>EUROPE</td>\n",
       "      <td>WESTERN EUROPE</td>\n",
       "      <td>NaN</td>\n",
       "      <td>2015</td>\n",
       "      <td>83.70</td>\n",
       "      <td>78.80</td>\n",
       "    </tr>\n",
       "    <tr>\n",
       "      <th>13468</th>\n",
       "      <td>ZMB</td>\n",
       "      <td>ZAMBIA</td>\n",
       "      <td>AFRICA</td>\n",
       "      <td>SUB-SAHARAN AFRICA</td>\n",
       "      <td>EASTERN AFRICA</td>\n",
       "      <td>2009</td>\n",
       "      <td>56.62</td>\n",
       "      <td>53.83</td>\n",
       "    </tr>\n",
       "    <tr>\n",
       "      <th>12497</th>\n",
       "      <td>TGO</td>\n",
       "      <td>TOGO</td>\n",
       "      <td>AFRICA</td>\n",
       "      <td>SUB-SAHARAN AFRICA</td>\n",
       "      <td>WESTERN AFRICA</td>\n",
       "      <td>1983</td>\n",
       "      <td>54.15</td>\n",
       "      <td>51.13</td>\n",
       "    </tr>\n",
       "    <tr>\n",
       "      <th>8456</th>\n",
       "      <td>MNE</td>\n",
       "      <td>MONTENEGRO</td>\n",
       "      <td>EUROPE</td>\n",
       "      <td>SOUTHERN EUROPE</td>\n",
       "      <td>NaN</td>\n",
       "      <td>1974</td>\n",
       "      <td>74.13</td>\n",
       "      <td>68.45</td>\n",
       "    </tr>\n",
       "    <tr>\n",
       "      <th>6415</th>\n",
       "      <td>VIR</td>\n",
       "      <td>ISLAS VÍRGENES (EE.UU.)</td>\n",
       "      <td>AMERICAS</td>\n",
       "      <td>LATIN AMERICA AND THE CARIBBEAN</td>\n",
       "      <td>CARIBBEAN</td>\n",
       "      <td>2012</td>\n",
       "      <td>82.00</td>\n",
       "      <td>75.20</td>\n",
       "    </tr>\n",
       "    <tr>\n",
       "      <th>3434</th>\n",
       "      <td>ECU</td>\n",
       "      <td>ECUADOR</td>\n",
       "      <td>AMERICAS</td>\n",
       "      <td>LATIN AMERICA AND THE CARIBBEAN</td>\n",
       "      <td>SOUTH AMERICA</td>\n",
       "      <td>1992</td>\n",
       "      <td>73.33</td>\n",
       "      <td>67.01</td>\n",
       "    </tr>\n",
       "    <tr>\n",
       "      <th>3120</th>\n",
       "      <td>CUW</td>\n",
       "      <td>CURACAO</td>\n",
       "      <td>AMERICAS</td>\n",
       "      <td>LATIN AMERICA AND THE CARIBBEAN</td>\n",
       "      <td>CARIBBEAN</td>\n",
       "      <td>1993</td>\n",
       "      <td>75.08</td>\n",
       "      <td>70.04</td>\n",
       "    </tr>\n",
       "    <tr>\n",
       "      <th>7745</th>\n",
       "      <td>MDG</td>\n",
       "      <td>MADAGASCAR</td>\n",
       "      <td>AFRICA</td>\n",
       "      <td>SUB-SAHARAN AFRICA</td>\n",
       "      <td>EASTERN AFRICA</td>\n",
       "      <td>2019</td>\n",
       "      <td>68.21</td>\n",
       "      <td>63.66</td>\n",
       "    </tr>\n",
       "    <tr>\n",
       "      <th>4010</th>\n",
       "      <td>SWZ</td>\n",
       "      <td>ESWATINI</td>\n",
       "      <td>AFRICA</td>\n",
       "      <td>SUB-SAHARAN AFRICA</td>\n",
       "      <td>SOUTHERN AFRICA</td>\n",
       "      <td>2001</td>\n",
       "      <td>48.13</td>\n",
       "      <td>43.75</td>\n",
       "    </tr>\n",
       "    <tr>\n",
       "      <th>2910</th>\n",
       "      <td>CRI</td>\n",
       "      <td>COSTA RICA</td>\n",
       "      <td>AMERICAS</td>\n",
       "      <td>LATIN AMERICA AND THE CARIBBEAN</td>\n",
       "      <td>CENTRAL AMERICA</td>\n",
       "      <td>1972</td>\n",
       "      <td>69.15</td>\n",
       "      <td>64.46</td>\n",
       "    </tr>\n",
       "  </tbody>\n",
       "</table>\n",
       "</div>"
      ],
      "text/plain": [
       "      country_code             country_name    region  \\\n",
       "811            AUT                  AUSTRIA    EUROPE   \n",
       "13468          ZMB                   ZAMBIA    AFRICA   \n",
       "12497          TGO                     TOGO    AFRICA   \n",
       "8456           MNE               MONTENEGRO    EUROPE   \n",
       "6415           VIR  ISLAS VÍRGENES (EE.UU.)  AMERICAS   \n",
       "3434           ECU                  ECUADOR  AMERICAS   \n",
       "3120           CUW                  CURACAO  AMERICAS   \n",
       "7745           MDG               MADAGASCAR    AFRICA   \n",
       "4010           SWZ                 ESWATINI    AFRICA   \n",
       "2910           CRI               COSTA RICA  AMERICAS   \n",
       "\n",
       "                            sub-region intermediate-region  year  \\\n",
       "811                     WESTERN EUROPE                 NaN  2015   \n",
       "13468               SUB-SAHARAN AFRICA      EASTERN AFRICA  2009   \n",
       "12497               SUB-SAHARAN AFRICA      WESTERN AFRICA  1983   \n",
       "8456                   SOUTHERN EUROPE                 NaN  1974   \n",
       "6415   LATIN AMERICA AND THE CARIBBEAN           CARIBBEAN  2012   \n",
       "3434   LATIN AMERICA AND THE CARIBBEAN       SOUTH AMERICA  1992   \n",
       "3120   LATIN AMERICA AND THE CARIBBEAN           CARIBBEAN  1993   \n",
       "7745                SUB-SAHARAN AFRICA      EASTERN AFRICA  2019   \n",
       "4010                SUB-SAHARAN AFRICA     SOUTHERN AFRICA  2001   \n",
       "2910   LATIN AMERICA AND THE CARIBBEAN     CENTRAL AMERICA  1972   \n",
       "\n",
       "       life_expectancy_women  life_expectancy_men  \n",
       "811                    83.70                78.80  \n",
       "13468                  56.62                53.83  \n",
       "12497                  54.15                51.13  \n",
       "8456                   74.13                68.45  \n",
       "6415                   82.00                75.20  \n",
       "3434                   73.33                67.01  \n",
       "3120                   75.08                70.04  \n",
       "7745                   68.21                63.66  \n",
       "4010                   48.13                43.75  \n",
       "2910                   69.15                64.46  "
      ]
     },
     "execution_count": 5,
     "metadata": {},
     "output_type": "execute_result"
    }
   ],
   "source": [
    "file_path = path.data_raw_dir(\"life_expectancy_dataset.csv\") \n",
    "df = pd.read_csv(file_path, delimiter=\";\", decimal=\",\")\n",
    "df.sample(10, random_state=42)"
   ]
  },
  {
   "cell_type": "markdown",
   "id": "bbf1e734",
   "metadata": {},
   "source": [
    "### 3.2 Cleaning"
   ]
  },
  {
   "cell_type": "code",
   "execution_count": 6,
   "id": "d9e8b6bc",
   "metadata": {},
   "outputs": [
    {
     "name": "stdout",
     "output_type": "stream",
     "text": [
      "<class 'pandas.core.frame.DataFrame'>\n",
      "RangeIndex: 13545 entries, 0 to 13544\n",
      "Data columns (total 8 columns):\n",
      " #   Column                 Non-Null Count  Dtype  \n",
      "---  ------                 --------------  -----  \n",
      " 0   country_code           13545 non-null  object \n",
      " 1   country_name           13545 non-null  object \n",
      " 2   region                 13545 non-null  object \n",
      " 3   sub-region             13545 non-null  object \n",
      " 4   intermediate-region    5670 non-null   object \n",
      " 5   year                   13545 non-null  int64  \n",
      " 6   life_expectancy_women  13545 non-null  float64\n",
      " 7   life_expectancy_men    13545 non-null  float64\n",
      "dtypes: float64(2), int64(1), object(5)\n",
      "memory usage: 846.7+ KB\n"
     ]
    }
   ],
   "source": [
    "df.info()"
   ]
  },
  {
   "cell_type": "markdown",
   "id": "50c69d40",
   "metadata": {},
   "source": [
    "#### 3.2.1 Cleaning Names"
   ]
  },
  {
   "cell_type": "markdown",
   "id": "33cec7a7",
   "metadata": {},
   "source": [
    "Standarizing column names:"
   ]
  },
  {
   "cell_type": "code",
   "execution_count": 7,
   "id": "4cb81911",
   "metadata": {},
   "outputs": [
    {
     "data": {
      "text/plain": [
       "Index(['country_code', 'country_name', 'region', 'sub_region',\n",
       "       'intermediate_region', 'year', 'life_expectancy_women',\n",
       "       'life_expectancy_men'],\n",
       "      dtype='object')"
      ]
     },
     "execution_count": 7,
     "metadata": {},
     "output_type": "execute_result"
    }
   ],
   "source": [
    "df = df.clean_names(case_type=\"snake\")\n",
    "df.columns"
   ]
  },
  {
   "cell_type": "markdown",
   "id": "727bb7d3",
   "metadata": {},
   "source": [
    "Delete accents from country names:"
   ]
  },
  {
   "cell_type": "code",
   "execution_count": 8,
   "id": "6aba9a7c",
   "metadata": {},
   "outputs": [],
   "source": [
    "df[\"country_name\"] = df[\"country_name\"].str.normalize(\"NFKD\").str.encode(\"ascii\", errors=\"ignore\").str.decode(\"utf-8\")"
   ]
  },
  {
   "cell_type": "markdown",
   "id": "140cef64",
   "metadata": {},
   "source": [
    "#### 3.2.2 Duplicates"
   ]
  },
  {
   "cell_type": "code",
   "execution_count": 9,
   "id": "b0f80a3b",
   "metadata": {},
   "outputs": [
    {
     "data": {
      "text/plain": [
       "np.int64(0)"
      ]
     },
     "execution_count": 9,
     "metadata": {},
     "output_type": "execute_result"
    }
   ],
   "source": [
    "df.duplicated().sum()"
   ]
  },
  {
   "cell_type": "markdown",
   "id": "72c0d4f6",
   "metadata": {},
   "source": [
    "#### 3.2.3 Handling Null Values "
   ]
  },
  {
   "cell_type": "code",
   "execution_count": 10,
   "id": "c2f0a405",
   "metadata": {},
   "outputs": [
    {
     "data": {
      "text/plain": [
       "country_code                0\n",
       "country_name                0\n",
       "region                      0\n",
       "sub_region                  0\n",
       "intermediate_region      7875\n",
       "year                        0\n",
       "life_expectancy_women       0\n",
       "life_expectancy_men         0\n",
       "dtype: int64"
      ]
     },
     "execution_count": 10,
     "metadata": {},
     "output_type": "execute_result"
    }
   ],
   "source": [
    "df.isnull().sum()"
   ]
  },
  {
   "cell_type": "markdown",
   "id": "35f18784",
   "metadata": {},
   "source": [
    "Missing values analysis by region and sub-region:"
   ]
  },
  {
   "cell_type": "code",
   "execution_count": 11,
   "id": "770f5794",
   "metadata": {},
   "outputs": [
    {
     "data": {
      "text/html": [
       "<div>\n",
       "<style scoped>\n",
       "    .dataframe tbody tr th:only-of-type {\n",
       "        vertical-align: middle;\n",
       "    }\n",
       "\n",
       "    .dataframe tbody tr th {\n",
       "        vertical-align: top;\n",
       "    }\n",
       "\n",
       "    .dataframe thead th {\n",
       "        text-align: right;\n",
       "    }\n",
       "</style>\n",
       "<table border=\"1\" class=\"dataframe\">\n",
       "  <thead>\n",
       "    <tr style=\"text-align: right;\">\n",
       "      <th></th>\n",
       "      <th>ASIA</th>\n",
       "      <th>EUROPE</th>\n",
       "      <th>AFRICA</th>\n",
       "      <th>AMERICAS</th>\n",
       "      <th>OCEANIA</th>\n",
       "    </tr>\n",
       "  </thead>\n",
       "  <tbody>\n",
       "    <tr>\n",
       "      <th>total_missing</th>\n",
       "      <td>3150</td>\n",
       "      <td>2898</td>\n",
       "      <td>378</td>\n",
       "      <td>252</td>\n",
       "      <td>1197</td>\n",
       "    </tr>\n",
       "    <tr>\n",
       "      <th>total_complete</th>\n",
       "      <td>0</td>\n",
       "      <td>0</td>\n",
       "      <td>3024</td>\n",
       "      <td>2646</td>\n",
       "      <td>0</td>\n",
       "    </tr>\n",
       "  </tbody>\n",
       "</table>\n",
       "</div>"
      ],
      "text/plain": [
       "                ASIA  EUROPE  AFRICA  AMERICAS  OCEANIA\n",
       "total_missing   3150    2898     378       252     1197\n",
       "total_complete     0       0    3024      2646        0"
      ]
     },
     "execution_count": 11,
     "metadata": {},
     "output_type": "execute_result"
    }
   ],
   "source": [
    "regions = list(df[\"region\"].unique())\n",
    "missing_by_region = {}\n",
    "for region in regions:\n",
    "  is_na = df.loc[df[\"region\"] == region, \"intermediate_region\"].isnull()\n",
    "\n",
    "  missing_by_region[region] = {\n",
    "\t\t\"total_missing\": is_na.sum(),\n",
    "\t\t\"total_complete\": len(is_na) - is_na.sum()\n",
    "\t}\n",
    "\n",
    "pd.DataFrame(missing_by_region)"
   ]
  },
  {
   "cell_type": "code",
   "execution_count": 12,
   "id": "781adb16",
   "metadata": {},
   "outputs": [
    {
     "data": {
      "text/plain": [
       "region    sub_region                       intermediate_region\n",
       "AFRICA    SUB-SAHARAN AFRICA               EASTERN AFRICA         1134\n",
       "                                           MIDDLE AFRICA           567\n",
       "                                           SOUTHERN AFRICA         315\n",
       "                                           WESTERN AFRICA         1008\n",
       "AMERICAS  LATIN AMERICA AND THE CARIBBEAN  CARIBBEAN              1386\n",
       "                                           CENTRAL AMERICA         504\n",
       "                                           SOUTH AMERICA           756\n",
       "dtype: int64"
      ]
     },
     "execution_count": 12,
     "metadata": {},
     "output_type": "execute_result"
    }
   ],
   "source": [
    "df.groupby([\"region\", \"sub_region\", \"intermediate_region\"]).size()"
   ]
  },
  {
   "cell_type": "code",
   "execution_count": 13,
   "id": "3b2b5d5e",
   "metadata": {},
   "outputs": [
    {
     "data": {
      "text/plain": [
       "region    sub_region               \n",
       "AFRICA    NORTHERN AFRICA               378\n",
       "AMERICAS  NORTHERN AMERICA              252\n",
       "ASIA      CENTRAL ASIA                  315\n",
       "          EASTERN ASIA                  441\n",
       "          SOUTH-EASTERN ASIA            693\n",
       "          SOUTHERN ASIA                 567\n",
       "          WESTERN ASIA                 1134\n",
       "EUROPE    EASTERN EUROPE                630\n",
       "          NORTHERN EUROPE               756\n",
       "          SOUTHERN EUROPE               945\n",
       "          WESTERN EUROPE                567\n",
       "OCEANIA   AUSTRALIA AND NEW ZEALAND     126\n",
       "          MELANESIA                     315\n",
       "          MICRONESIA                    441\n",
       "          POLYNESIA                     315\n",
       "dtype: int64"
      ]
     },
     "execution_count": 13,
     "metadata": {},
     "output_type": "execute_result"
    }
   ],
   "source": [
    "df[df[\"intermediate_region\"].isnull()].groupby([\"region\", \"sub_region\"]).size()"
   ]
  },
  {
   "cell_type": "markdown",
   "id": "9b618eb6",
   "metadata": {},
   "source": [
    "The United Nations classifies the world into geographical regions, sub-regions and **some cases** intermediate regions to facilitate global analysis. While other all countries are assigned a sub-region, not all are assigned an intermediate region, this explains the missing values in areas such Asia, Europe, and Oceania. Although Africa appears to lack intermediate regions, its sub-region Sub-Saharan Africa is further divied into Eastern, Middle, Southern, and Western Africa; these divisions are not formally considered intermediate regions.\n",
    "\n",
    "\n",
    "To handle missing values in `intermediate_regions` vale, we have two options:\n",
    "1. Inpute using the corresponding `sub-region` value to preserves geographical meaning.\n",
    "2. Label missing values as \"Unknown\".\n",
    "\n",
    "\n",
    "For this analysis, I will pick option 1, it is more appropriate and infomative choice."
   ]
  },
  {
   "cell_type": "code",
   "execution_count": 14,
   "id": "bc4d115b",
   "metadata": {},
   "outputs": [
    {
     "data": {
      "text/plain": [
       "np.int64(0)"
      ]
     },
     "execution_count": 14,
     "metadata": {},
     "output_type": "execute_result"
    }
   ],
   "source": [
    "df = df.apply(lambda x: x.fillna(x[\"sub_region\"]), axis=1)\n",
    "df.isnull().sum().sum()"
   ]
  },
  {
   "cell_type": "code",
   "execution_count": null,
   "id": "cd1b2c6e",
   "metadata": {},
   "outputs": [],
   "source": []
  }
 ],
 "metadata": {
  "kernelspec": {
   "display_name": "data_projects",
   "language": "python",
   "name": "python3"
  },
  "language_info": {
   "codemirror_mode": {
    "name": "ipython",
    "version": 3
   },
   "file_extension": ".py",
   "mimetype": "text/x-python",
   "name": "python",
   "nbconvert_exporter": "python",
   "pygments_lexer": "ipython3",
   "version": "3.12.9"
  }
 },
 "nbformat": 4,
 "nbformat_minor": 5
}
