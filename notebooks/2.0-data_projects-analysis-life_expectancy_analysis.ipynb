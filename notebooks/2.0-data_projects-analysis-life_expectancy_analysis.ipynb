{
 "cells": [
  {
   "cell_type": "markdown",
   "id": "d07c756c",
   "metadata": {},
   "source": [
    "# Life Expectancy Analysis"
   ]
  },
  {
   "cell_type": "markdown",
   "id": "07f4f24a",
   "metadata": {},
   "source": [
    "- Data source: https://www.kaggle.com/datasets/fredericksalazar/life-expectancy-1960-to-present-global/code\n",
    "\n",
    "Column definitions:\n",
    "- `Country Code`: Unique identifier for each country.\n",
    "- `Country Name`: Official name of the country.\n",
    "- `Region`: Broad geographical area (e.g., Asia, Europe, Africa).\n",
    "- `Sub-Region`: More specific regional classification within the broader region.\n",
    "- `Intermediate Region`: Additional granular geographical grouping when applicable.\n",
    "- `Year`: The specific year to which the data pertains.\n",
    "- `Life Expectancy for Women`: Average years a woman is expected to live in that country and year.\n",
    "- `Life Expectancy for Men`: Average years a man is expected to live in that country and year."
   ]
  },
  {
   "cell_type": "markdown",
   "id": "86d8ad64",
   "metadata": {},
   "source": [
    "## Libraries"
   ]
  },
  {
   "cell_type": "code",
   "execution_count": 1,
   "id": "38efe93a",
   "metadata": {},
   "outputs": [],
   "source": [
    "%run 0.0-data_projects-setup.ipynb\n",
    "%run pandas-missing-extension.ipynb"
   ]
  },
  {
   "cell_type": "code",
   "execution_count": 2,
   "id": "73f70028",
   "metadata": {},
   "outputs": [],
   "source": [
    "# Data Manipulation\n",
    "import pandas as pd\n",
    "import numpy as np\n",
    "\n",
    "# Data Visualization\n",
    "import matplotlib.pyplot as plt\n",
    "import seaborn as sns\n",
    "\n",
    "# Data Cleaning\n",
    "import janitor\n",
    "\n",
    "# Missin Values Analysis\n",
    "import missingno as msno\n",
    "\n",
    "import warnings\n",
    "warnings.filterwarnings('ignore')"
   ]
  },
  {
   "cell_type": "markdown",
   "id": "54b6e75a",
   "metadata": {},
   "source": [
    "## Download and Load Data"
   ]
  },
  {
   "cell_type": "code",
   "execution_count": 3,
   "id": "03f16860",
   "metadata": {},
   "outputs": [],
   "source": [
    "file_zip_path = path.data_raw_dir(\"life-expectancy.zip\")\n",
    "url = \"https://www.kaggle.com/api/v1/datasets/download/fredericksalazar/life-expectancy-1960-to-present-global\""
   ]
  },
  {
   "cell_type": "code",
   "execution_count": 4,
   "id": "f53097dd",
   "metadata": {},
   "outputs": [
    {
     "name": "stdout",
     "output_type": "stream",
     "text": [
      "  % Total    % Received % Xferd  Average Speed   Time    Time     Time  Current\n",
      "                                 Dload  Upload   Total   Spent    Left  Speed\n",
      "  0     0    0     0    0     0      0      0 --:--:-- --:--:-- --:--:--     0\n",
      "100  108k  100  108k    0     0   250k      0 --:--:-- --:--:-- --:--:-- 3450k\n",
      "Archive:  /home/pahoalapizco/ds-projects/data_projects/data/raw/life-expectancy.zip\n",
      "  inflating: /home/pahoalapizco/ds-projects/data_projects/data/raw/life_expectancy_dataset.csv  \n"
     ]
    }
   ],
   "source": [
    "!curl -L -o {file_zip_path} {url}\n",
    "!unzip -o {file_zip_path} -d {path.data_raw_dir()} && rm {file_zip_path}"
   ]
  },
  {
   "cell_type": "code",
   "execution_count": 5,
   "id": "7a912e9a",
   "metadata": {},
   "outputs": [
    {
     "data": {
      "text/html": [
       "<div>\n",
       "<style scoped>\n",
       "    .dataframe tbody tr th:only-of-type {\n",
       "        vertical-align: middle;\n",
       "    }\n",
       "\n",
       "    .dataframe tbody tr th {\n",
       "        vertical-align: top;\n",
       "    }\n",
       "\n",
       "    .dataframe thead th {\n",
       "        text-align: right;\n",
       "    }\n",
       "</style>\n",
       "<table border=\"1\" class=\"dataframe\">\n",
       "  <thead>\n",
       "    <tr style=\"text-align: right;\">\n",
       "      <th></th>\n",
       "      <th>country_code</th>\n",
       "      <th>country_name</th>\n",
       "      <th>region</th>\n",
       "      <th>sub-region</th>\n",
       "      <th>intermediate-region</th>\n",
       "      <th>year</th>\n",
       "      <th>life_expectancy_women</th>\n",
       "      <th>life_expectancy_men</th>\n",
       "    </tr>\n",
       "  </thead>\n",
       "  <tbody>\n",
       "    <tr>\n",
       "      <th>0</th>\n",
       "      <td>AFG</td>\n",
       "      <td>AFGANISTÁN</td>\n",
       "      <td>ASIA</td>\n",
       "      <td>SOUTHERN ASIA</td>\n",
       "      <td>NaN</td>\n",
       "      <td>1960</td>\n",
       "      <td>33,28</td>\n",
       "      <td>31,87</td>\n",
       "    </tr>\n",
       "    <tr>\n",
       "      <th>1</th>\n",
       "      <td>AFG</td>\n",
       "      <td>AFGANISTÁN</td>\n",
       "      <td>ASIA</td>\n",
       "      <td>SOUTHERN ASIA</td>\n",
       "      <td>NaN</td>\n",
       "      <td>1961</td>\n",
       "      <td>33,81</td>\n",
       "      <td>32,41</td>\n",
       "    </tr>\n",
       "    <tr>\n",
       "      <th>2</th>\n",
       "      <td>AFG</td>\n",
       "      <td>AFGANISTÁN</td>\n",
       "      <td>ASIA</td>\n",
       "      <td>SOUTHERN ASIA</td>\n",
       "      <td>NaN</td>\n",
       "      <td>1962</td>\n",
       "      <td>34,30</td>\n",
       "      <td>32,88</td>\n",
       "    </tr>\n",
       "    <tr>\n",
       "      <th>3</th>\n",
       "      <td>AFG</td>\n",
       "      <td>AFGANISTÁN</td>\n",
       "      <td>ASIA</td>\n",
       "      <td>SOUTHERN ASIA</td>\n",
       "      <td>NaN</td>\n",
       "      <td>1963</td>\n",
       "      <td>34,77</td>\n",
       "      <td>33,35</td>\n",
       "    </tr>\n",
       "    <tr>\n",
       "      <th>4</th>\n",
       "      <td>AFG</td>\n",
       "      <td>AFGANISTÁN</td>\n",
       "      <td>ASIA</td>\n",
       "      <td>SOUTHERN ASIA</td>\n",
       "      <td>NaN</td>\n",
       "      <td>1964</td>\n",
       "      <td>35,25</td>\n",
       "      <td>33,83</td>\n",
       "    </tr>\n",
       "  </tbody>\n",
       "</table>\n",
       "</div>"
      ],
      "text/plain": [
       "  country_code country_name region     sub-region intermediate-region  year  \\\n",
       "0          AFG   AFGANISTÁN   ASIA  SOUTHERN ASIA                 NaN  1960   \n",
       "1          AFG   AFGANISTÁN   ASIA  SOUTHERN ASIA                 NaN  1961   \n",
       "2          AFG   AFGANISTÁN   ASIA  SOUTHERN ASIA                 NaN  1962   \n",
       "3          AFG   AFGANISTÁN   ASIA  SOUTHERN ASIA                 NaN  1963   \n",
       "4          AFG   AFGANISTÁN   ASIA  SOUTHERN ASIA                 NaN  1964   \n",
       "\n",
       "  life_expectancy_women life_expectancy_men  \n",
       "0                 33,28               31,87  \n",
       "1                 33,81               32,41  \n",
       "2                 34,30               32,88  \n",
       "3                 34,77               33,35  \n",
       "4                 35,25               33,83  "
      ]
     },
     "execution_count": 5,
     "metadata": {},
     "output_type": "execute_result"
    }
   ],
   "source": [
    "file_path = path.data_raw_dir(\"life_expectancy_dataset.csv\") \n",
    "df = pd.read_csv(file_path, delimiter=\";\")\n",
    "df.head()"
   ]
  },
  {
   "cell_type": "code",
   "execution_count": 6,
   "id": "d9e8b6bc",
   "metadata": {},
   "outputs": [
    {
     "name": "stdout",
     "output_type": "stream",
     "text": [
      "<class 'pandas.core.frame.DataFrame'>\n",
      "RangeIndex: 13545 entries, 0 to 13544\n",
      "Data columns (total 8 columns):\n",
      " #   Column                 Non-Null Count  Dtype \n",
      "---  ------                 --------------  ----- \n",
      " 0   country_code           13545 non-null  object\n",
      " 1   country_name           13545 non-null  object\n",
      " 2   region                 13545 non-null  object\n",
      " 3   sub-region             13545 non-null  object\n",
      " 4   intermediate-region    5670 non-null   object\n",
      " 5   year                   13545 non-null  int64 \n",
      " 6   life_expectancy_women  13545 non-null  object\n",
      " 7   life_expectancy_men    13545 non-null  object\n",
      "dtypes: int64(1), object(7)\n",
      "memory usage: 846.7+ KB\n"
     ]
    }
   ],
   "source": [
    "df.info()"
   ]
  },
  {
   "cell_type": "code",
   "execution_count": 7,
   "id": "c2f0a405",
   "metadata": {},
   "outputs": [
    {
     "data": {
      "text/plain": [
       "country_code                0\n",
       "country_name                0\n",
       "region                      0\n",
       "sub-region                  0\n",
       "intermediate-region      7875\n",
       "year                        0\n",
       "life_expectancy_women       0\n",
       "life_expectancy_men         0\n",
       "dtype: int64"
      ]
     },
     "execution_count": 7,
     "metadata": {},
     "output_type": "execute_result"
    }
   ],
   "source": [
    "df.isnull().sum()"
   ]
  },
  {
   "cell_type": "code",
   "execution_count": null,
   "id": "b0f80a3b",
   "metadata": {},
   "outputs": [],
   "source": []
  }
 ],
 "metadata": {
  "kernelspec": {
   "display_name": "data_projects",
   "language": "python",
   "name": "python3"
  },
  "language_info": {
   "codemirror_mode": {
    "name": "ipython",
    "version": 3
   },
   "file_extension": ".py",
   "mimetype": "text/x-python",
   "name": "python",
   "nbconvert_exporter": "python",
   "pygments_lexer": "ipython3",
   "version": "3.12.9"
  }
 },
 "nbformat": 4,
 "nbformat_minor": 5
}
